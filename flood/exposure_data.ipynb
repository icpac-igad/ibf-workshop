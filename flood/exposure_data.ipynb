{
 "cells": [
  {
   "cell_type": "markdown",
   "id": "ee61ea09",
   "metadata": {},
   "source": [
    "## Road network\n",
    "\n",
    "1. Open Street Map is a free data source for web maps, https://www.openstreetmap.org/#map=7/1.367/32.305\n",
    "1. It allows to download the data and use it in different cases. Such as from this data aggregator for OSM, https://download.geofabrik.de/africa/uganda-latest.osm.pbf\n",
    "1. the reading of large pbf file ends up in memory error with a low RAM computer. For that matter there is a way to subset the large pbf file into a small one by region subsetting using osmconvert, https://wiki.openstreetmap.org/wiki/Osmconvert. Then reading the resultant small size pbf file in pyrosm. \n",
    "```\n",
    "osmconvert \"uganda-latest.osm.pbf\" -b=33,1.4,35,4.5 --complete-ways --out-pbf -o=karamoja.osm.pbf\n",
    "```\n",
    "1. "
   ]
  },
  {
   "cell_type": "code",
   "execution_count": null,
   "id": "03208d16",
   "metadata": {},
   "outputs": [],
   "source": [
    "## to get the extent of region"
   ]
  },
  {
   "cell_type": "code",
   "execution_count": null,
   "id": "6f4b3f84",
   "metadata": {},
   "outputs": [],
   "source": [
    "import geopandas as gp\n",
    "\n",
    "db=gp.read_file('karamojo_region.shp')\n",
    "\n",
    "min_long,min_lat,max_long,max_lat=db.total_bounds\n",
    "\n",
    "print(min_long,min_lat,max_long,max_lat)"
   ]
  },
  {
   "cell_type": "code",
   "execution_count": null,
   "id": "4e5cf5f5",
   "metadata": {},
   "outputs": [],
   "source": [
    "from pyrosm import OSM\n",
    "\n",
    "\n",
    "ind_osm='karamoja.osm.pbf'\n",
    "\n",
    "op_ind_osm = OSM(ind_osm,bounding_box=[33.5,1.5,35,4.5])\n",
    "\n",
    "#drive_net = op_ind_osm.get_network(network_type=\"all\")"
   ]
  },
  {
   "cell_type": "code",
   "execution_count": null,
   "id": "369e21ac",
   "metadata": {},
   "outputs": [],
   "source": [
    "drive_net.to_file('kmj_roads.shp')"
   ]
  },
  {
   "cell_type": "markdown",
   "id": "6d457af5",
   "metadata": {},
   "source": [
    "## buildings \n",
    "\n",
    "1. From https://sites.research.google/open-buildings/"
   ]
  },
  {
   "cell_type": "code",
   "execution_count": null,
   "id": "a086fcc7",
   "metadata": {},
   "outputs": [],
   "source": [
    "import pandas as pd\n",
    "\n",
    "from shapely import wkt\n",
    "import geopandas as gp\n",
    "\n",
    "min_long=34.5153815\n",
    "min_lat=1.5464865\n",
    "max_long=35.05\n",
    "max_lat=4.2309798\n",
    "\n",
    "bdb=pd.read_csv('/home/177_buildings.csv.gz')\n",
    "\n",
    "bdb1=bdb.loc[(bdb['longitude'] >=min_long ) & (bdb['longitude'] <= max_long)]\n",
    "bdb2=bdb1.loc[(bdb1['latitude'] >=min_lat ) & (bdb1['latitude'] <= max_lat)]\n",
    "\n",
    "\n",
    "bdb2['geometry1'] = bdb2.geometry.apply(wkt.loads)\n",
    "bdb2.drop('geometry', axis=1, inplace=True) #Drop WKT column\n",
    "bdb2.rename({'geometry1': 'geometry'}, axis=1, inplace=True)\n",
    "\n",
    "bdb3a=gp.GeoDataFrame(bdb2)\n",
    "\n",
    "\n",
    "\n",
    "#bdb3.to_file('/home/building_footprints_kmj_part1.shp')"
   ]
  },
  {
   "cell_type": "code",
   "execution_count": null,
   "id": "e2d54caf",
   "metadata": {},
   "outputs": [],
   "source": [
    "import pandas as pd\n",
    "\n",
    "from shapely import wkt\n",
    "import geopandas as gp\n",
    "\n",
    "min_long=34.5153815\n",
    "min_lat=1.5464865\n",
    "max_long=35.05\n",
    "max_lat=4.2309798\n",
    "\n",
    "bdb=pd.read_csv('/home/179_buildings.csv.gz')\n",
    "\n",
    "bdb1=bdb.loc[(bdb['longitude'] >=min_long ) & (bdb['longitude'] <= max_long)]\n",
    "bdb2=bdb1.loc[(bdb1['latitude'] >=min_lat ) & (bdb1['latitude'] <= max_lat)]\n",
    "\n",
    "\n",
    "bdb2['geometry1'] = bdb2.geometry.apply(wkt.loads)\n",
    "bdb2.drop('geometry', axis=1, inplace=True) #Drop WKT column\n",
    "bdb2.rename({'geometry1': 'geometry'}, axis=1, inplace=True)\n",
    "\n",
    "bdb3b=gp.GeoDataFrame(bdb2)\n",
    "\n",
    "\n",
    "\n",
    "#bdb3.to_file('/home/building_footprints_kmj_part2.shp')"
   ]
  },
  {
   "cell_type": "code",
   "execution_count": null,
   "id": "6511e1e1",
   "metadata": {},
   "outputs": [],
   "source": [
    "dfg=pd.concat([bdb3a,bdb3b])\n",
    "\n",
    "kmjb=gp.read_file('karamojo_region.shp')\n",
    "\n",
    "_overlay = gp.overlay(kmjb, dfg, how='intersection')"
   ]
  }
 ],
 "metadata": {
  "kernelspec": {
   "display_name": "Python 3 (ipykernel)",
   "language": "python",
   "name": "python3"
  },
  "language_info": {
   "codemirror_mode": {
    "name": "ipython",
    "version": 3
   },
   "file_extension": ".py",
   "mimetype": "text/x-python",
   "name": "python",
   "nbconvert_exporter": "python",
   "pygments_lexer": "ipython3",
   "version": "3.9.16"
  }
 },
 "nbformat": 4,
 "nbformat_minor": 5
}
