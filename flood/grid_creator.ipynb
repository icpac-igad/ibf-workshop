{
 "cells": [
  {
   "cell_type": "markdown",
   "id": "df1fe766",
   "metadata": {},
   "source": [
    "## create 1km grid data"
   ]
  },
  {
   "cell_type": "code",
   "execution_count": 2,
   "id": "cc5caa37",
   "metadata": {},
   "outputs": [],
   "source": [
    "import argparse\n",
    "import pandas as pd\n",
    "from shapely.geometry import Polygon, mapping\n",
    "import numpy as np\n",
    "import itertools\n",
    "import geopandas as gp\n",
    "\n",
    "swlong =33.5153815\n",
    "swlat =1.5464865\n",
    "gridx =0.01\n",
    "gridy =0.01\n",
    "nx =146\n",
    "ny =268\n",
    "\n",
    "#computing the extent\n",
    "nelong=swlong+(gridx*nx)\n",
    "nelat=swlat+(gridy*ny)\n",
    "\n",
    "\n",
    "#module for grid computation, effective to southern parts, it really shrinking the grid size while moving to north\n",
    "def gridcreator():\n",
    "    xmin,ymin,xmax,ymax= swlong, swlat, nelong, nelat\n",
    "    gridWidth = gridx\n",
    "    gridHeight = gridy\n",
    "    rows = round((ymax-ymin)/gridHeight)\n",
    "    cols = round((xmax-xmin)/gridWidth)\n",
    "    ringXleftOrigin = xmin\n",
    "    ringXrightOrigin = xmin + gridWidth\n",
    "    ringYtopOrigin = ymax\n",
    "    ringYbottomOrigin = ymax-gridHeight\n",
    "    polygun1=[]\n",
    "    for i in np.arange(cols):\n",
    "        ringYtop = ringYtopOrigin\n",
    "        ringYbottom =ringYbottomOrigin\n",
    "        for j in np.arange(rows):\n",
    "            polygon = Polygon([(ringXleftOrigin, ringYtop), (ringXrightOrigin, ringYtop), (ringXrightOrigin, ringYbottom), (ringXleftOrigin, ringYbottom)])\n",
    "            polygun1.append(polygon)\n",
    "            ringYtop = ringYtop - gridHeight\n",
    "            ringYbottom = ringYbottom - gridHeight\n",
    "        ringXleftOrigin = ringXleftOrigin + gridWidth\n",
    "        ringXrightOrigin = ringXrightOrigin + gridWidth\n",
    "    return polygun1   \n",
    "\n",
    "\n",
    "aa1=gridcreator()\n",
    "\n",
    "ww=pd.DataFrame(aa1)\n",
    "\n",
    "\n",
    "ww['VIL']=ww.index\n",
    "ww.columns=['geometry','VIL']\n",
    "ww['geometry1']=ww['geometry'].map(lambda x: x.exterior.coords)\n",
    "ww['centroid']=ww['geometry'].map(lambda x: x.centroid)"
   ]
  },
  {
   "cell_type": "code",
   "execution_count": 3,
   "id": "98b7f10f",
   "metadata": {},
   "outputs": [],
   "source": [
    "ww1=ww[['geometry','VIL']]\n",
    "\n",
    "ww2=gp.GeoDataFrame(ww1)"
   ]
  },
  {
   "cell_type": "code",
   "execution_count": 4,
   "id": "2920b504",
   "metadata": {},
   "outputs": [
    {
     "name": "stderr",
     "output_type": "stream",
     "text": [
      "ERROR 1: PROJ: proj_create_from_database: Open of /srv/conda/envs/notebook/share/proj failed\n",
      "/tmp/ipykernel_108/3031266960.py:13: UserWarning: CRS mismatch between the CRS of left geometries and the CRS of right geometries.\n",
      "Use `to_crs()` to reproject one of the input geometries to match the CRS of the other.\n",
      "\n",
      "Left CRS: EPSG:4326\n",
      "Right CRS: None\n",
      "\n",
      "  df=gp.sjoin(kmj,ww_pt1,how='left')\n"
     ]
    }
   ],
   "source": [
    "ww_pt=ww[['VIL','centroid']]\n",
    "\n",
    "ww_pt.columns=['VIL','geometry']\n",
    "\n",
    "ww_pt1=gp.GeoDataFrame(ww_pt)\n",
    "\n",
    "import geopandas as gp\n",
    "\n",
    "#kmj=gp.read_file('/home/bulbul/Documents/07-2022/impact_weather_icpac/lab/UGA/karamojo_region.shp')\n",
    "\n",
    "kmj=gp.read_file('/srv/repo/IBF_workshop_data/gis_files/kmj/Karamoja_9_districts.shp')\n",
    "\n",
    "df=gp.sjoin(kmj,ww_pt1,how='left')"
   ]
  },
  {
   "cell_type": "code",
   "execution_count": 6,
   "id": "2b4a7113",
   "metadata": {},
   "outputs": [],
   "source": [
    "df1=df[['VIL','admin2Name']]\n",
    "\n",
    "#df1.to_file('/home/bulbul/Documents/07-2022/impact_weather_icpac/lab/UGA/kmj_grids_v5.shp')\n",
    "\n",
    "ww3=pd.merge(ww2,df1,on='VIL')\n",
    "ww3.to_file('/srv/repo/IBF_workshop_data/gis_files/kmj/kmj_grids_1km.shp')"
   ]
  },
  {
   "cell_type": "markdown",
   "id": "926bdb61",
   "metadata": {},
   "source": [
    "## Create 10 km grid data"
   ]
  },
  {
   "cell_type": "code",
   "execution_count": 7,
   "id": "11ae5517",
   "metadata": {},
   "outputs": [],
   "source": [
    "import argparse\n",
    "import pandas as pd\n",
    "from shapely.geometry import Polygon, mapping\n",
    "import numpy as np\n",
    "import itertools\n",
    "\n",
    "swlong =33.5153815\n",
    "swlat =1.5464865\n",
    "gridx =0.1\n",
    "gridy =0.1\n",
    "nx =15\n",
    "ny =27\n",
    "\n",
    "#computing the extent\n",
    "nelong=swlong+(gridx*nx)\n",
    "nelat=swlat+(gridy*ny)\n",
    "\n",
    "\n",
    "#module for grid computation, effective to southern parts, it really shrinking the grid size while moving to north\n",
    "def gridcreator():\n",
    "    xmin,ymin,xmax,ymax= swlong, swlat, nelong, nelat\n",
    "    gridWidth = gridx\n",
    "    gridHeight = gridy\n",
    "    rows = round((ymax-ymin)/gridHeight)\n",
    "    cols = round((xmax-xmin)/gridWidth)\n",
    "    ringXleftOrigin = xmin\n",
    "    ringXrightOrigin = xmin + gridWidth\n",
    "    ringYtopOrigin = ymax\n",
    "    ringYbottomOrigin = ymax-gridHeight\n",
    "    polygun1=[]\n",
    "    for i in np.arange(cols):\n",
    "        ringYtop = ringYtopOrigin\n",
    "        ringYbottom =ringYbottomOrigin\n",
    "        for j in np.arange(rows):\n",
    "            polygon = Polygon([(ringXleftOrigin, ringYtop), (ringXrightOrigin, ringYtop), (ringXrightOrigin, ringYbottom), (ringXleftOrigin, ringYbottom)])\n",
    "            polygun1.append(polygon)\n",
    "            ringYtop = ringYtop - gridHeight\n",
    "            ringYbottom = ringYbottom - gridHeight\n",
    "        ringXleftOrigin = ringXleftOrigin + gridWidth\n",
    "        ringXrightOrigin = ringXrightOrigin + gridWidth\n",
    "    return polygun1   \n",
    "\n",
    "\n",
    "aa1=gridcreator()\n",
    "\n",
    "ww=pd.DataFrame(aa1)\n",
    "\n",
    "\n",
    "ww['VIL']=ww.index\n",
    "ww.columns=['geometry','VIL']\n",
    "ww['geometry1']=ww['geometry'].map(lambda x: x.exterior.coords)\n",
    "ww['centroid']=ww['geometry'].map(lambda x: x.centroid)"
   ]
  },
  {
   "cell_type": "code",
   "execution_count": 8,
   "id": "d3671961",
   "metadata": {},
   "outputs": [
    {
     "name": "stderr",
     "output_type": "stream",
     "text": [
      "/tmp/ipykernel_108/920442235.py:17: UserWarning: CRS mismatch between the CRS of left geometries and the CRS of right geometries.\n",
      "Use `to_crs()` to reproject one of the input geometries to match the CRS of the other.\n",
      "\n",
      "Left CRS: EPSG:4326\n",
      "Right CRS: None\n",
      "\n",
      "  df=gp.sjoin(kmj,ww_pt1,how='left')\n"
     ]
    }
   ],
   "source": [
    "ww1=ww[['geometry','VIL']]\n",
    "\n",
    "ww2=gp.GeoDataFrame(ww1)\n",
    "\n",
    "ww_pt=ww[['VIL','centroid']]\n",
    "\n",
    "ww_pt.columns=['VIL','geometry']\n",
    "\n",
    "ww_pt1=gp.GeoDataFrame(ww_pt)\n",
    "\n",
    "import geopandas as gp\n",
    "\n",
    "#kmj=gp.read_file('/home/bulbul/Documents/07-2022/impact_weather_icpac/lab/UGA/karamojo_region.shp')\n",
    "\n",
    "kmj=gp.read_file('/srv/repo/IBF_workshop_data/gis_files/kmj/Karamoja_9_districts.shp')\n",
    "\n",
    "df=gp.sjoin(kmj,ww_pt1,how='left')\n",
    "\n",
    "df1=df[['VIL','admin2Name']]\n",
    "\n",
    "#df1.to_file('/home/bulbul/Documents/07-2022/impact_weather_icpac/lab/UGA/kmj_grids_v5.shp')\n",
    "\n",
    "ww3=pd.merge(ww2,df1,on='VIL')\n",
    "ww3.to_file('/srv/repo/IBF_workshop_data/gis_files/kmj/kmj_grids_10km.shp')"
   ]
  },
  {
   "cell_type": "markdown",
   "id": "bfd33444",
   "metadata": {},
   "source": [
    "## Plot the shape file "
   ]
  },
  {
   "cell_type": "code",
   "execution_count": null,
   "id": "c35ab7e1",
   "metadata": {},
   "outputs": [],
   "source": [
    "import matplotlib.pyplot as plt\n",
    "import cartopy.crs as ccrs\n",
    "from cartopy.io.shapereader import Reader\n",
    "from cartopy.feature import ShapelyFeature\n",
    "\n",
    "fname = r'simplified-land-polygons-complete-3857\\simplified_land_polygons.shp'\n",
    "\n",
    "ax = plt.axes(projection=ccrs.Robinson())\n",
    "shape_feature = ShapelyFeature(Reader(fname).geometries(),\n",
    "                                ccrs.PlateCarree(), edgecolor='black')\n",
    "#ax.add_feature(shape_feature)\n",
    "ax.add_feature(shape_feature, facecolor='blue')\n",
    "\n",
    "plt.show()"
   ]
  }
 ],
 "metadata": {
  "kernelspec": {
   "display_name": "Python 3 (ipykernel)",
   "language": "python",
   "name": "python3"
  },
  "language_info": {
   "codemirror_mode": {
    "name": "ipython",
    "version": 3
   },
   "file_extension": ".py",
   "mimetype": "text/x-python",
   "name": "python",
   "nbconvert_exporter": "python",
   "pygments_lexer": "ipython3",
   "version": "3.9.7"
  },
  "toc": {
   "base_numbering": 1,
   "nav_menu": {},
   "number_sections": true,
   "sideBar": true,
   "skip_h1_title": false,
   "title_cell": "Table of Contents",
   "title_sidebar": "Contents",
   "toc_cell": false,
   "toc_position": {},
   "toc_section_display": true,
   "toc_window_display": false
  }
 },
 "nbformat": 4,
 "nbformat_minor": 5
}
