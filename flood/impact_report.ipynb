{
 "cells": [
  {
   "cell_type": "markdown",
   "id": "4d169017",
   "metadata": {},
   "source": [
    "# Impact reporting "
   ]
  },
  {
   "cell_type": "markdown",
   "id": "c676cc7f",
   "metadata": {},
   "source": [
    "## read the shape file in last excercise"
   ]
  },
  {
   "cell_type": "code",
   "execution_count": null,
   "id": "2f65719d",
   "metadata": {},
   "outputs": [],
   "source": [
    "import geopandas as gp\n",
    "import folium\n",
    "import matplotlib.pyplot as plt\n",
    "\n",
    "db=gp.read_file('/srv/repo/IBF_workshop_data/gis_files/kmj/kmj_grids_10km.shp')\n",
    "\n",
    "db = db.set_crs(epsg=4326)\n",
    "\n",
    "#['Abim', 'Napak', 'Nabilatuk', 'Kotido',\n",
    "# 'Moroto', 'Nakapiripirit', 'Kaabong',\n",
    "# 'Karenga', 'Amudat']\n",
    "\n",
    "db1=db[db['admin2Name']=='Abim']\n",
    "db1"
   ]
  },
  {
   "cell_type": "markdown",
   "id": "5e873c53",
   "metadata": {},
   "source": [
    "## Create a web map"
   ]
  },
  {
   "cell_type": "code",
   "execution_count": null,
   "id": "842f4b86",
   "metadata": {},
   "outputs": [],
   "source": [
    "m = folium.Map(location=[2.7, 34.2], zoom_start=8, tiles='CartoDB positron')\n",
    "m"
   ]
  },
  {
   "cell_type": "markdown",
   "id": "5a44dfb5",
   "metadata": {
    "ExecuteTime": {
     "end_time": "2023-04-13T11:42:05.772170Z",
     "start_time": "2023-04-13T11:42:05.766089Z"
    }
   },
   "source": [
    "## attach the polygon and overlay them on web map "
   ]
  },
  {
   "cell_type": "code",
   "execution_count": null,
   "id": "c3e112e1",
   "metadata": {},
   "outputs": [],
   "source": [
    "for _, r in db1.iterrows():\n",
    "    # Without simplifying the representation of each borough,\n",
    "    # the map might not be displayed\n",
    "    sim_geo = gpd.GeoSeries(r['geometry']).simplify(tolerance=0.001)\n",
    "    geo_j = sim_geo.to_json()\n",
    "    geo_j = folium.GeoJson(data=geo_j,\n",
    "                           style_function=lambda x: {'fillColor': 'None'})\n",
    "    folium.Popup(r['VIL']).add_to(geo_j)\n",
    "    geo_j.add_to(m)\n",
    "m"
   ]
  },
  {
   "cell_type": "markdown",
   "id": "cd6c216f",
   "metadata": {},
   "source": [
    "## Next steps"
   ]
  },
  {
   "cell_type": "markdown",
   "id": "806e05ba",
   "metadata": {},
   "source": [
    "https://stackoverflow.com/questions/54752175/add-heatmap-to-a-layer-in-folium/54756617#54756617\n",
    "https://stackoverflow.com/questions/55344513/add-menu-bar-on-folium-map-to-select-or-deselect-particular-object-marker\n",
    "\n",
    "\n",
    "https://geopandas.org/en/stable/gallery/polygon_plotting_with_folium.html"
   ]
  }
 ],
 "metadata": {
  "kernelspec": {
   "display_name": "Python 3 (ipykernel)",
   "language": "python",
   "name": "python3"
  },
  "language_info": {
   "codemirror_mode": {
    "name": "ipython",
    "version": 3
   },
   "file_extension": ".py",
   "mimetype": "text/x-python",
   "name": "python",
   "nbconvert_exporter": "python",
   "pygments_lexer": "ipython3",
   "version": "3.9.7"
  },
  "toc": {
   "base_numbering": 1,
   "nav_menu": {},
   "number_sections": true,
   "sideBar": true,
   "skip_h1_title": false,
   "title_cell": "Table of Contents",
   "title_sidebar": "Contents",
   "toc_cell": false,
   "toc_position": {},
   "toc_section_display": true,
   "toc_window_display": false
  }
 },
 "nbformat": 4,
 "nbformat_minor": 5
}
