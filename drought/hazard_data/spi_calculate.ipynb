{
 "cells": [
  {
   "cell_type": "markdown",
   "metadata": {
    "ExecuteTime": {
     "end_time": "2023-03-02T07:33:54.651792Z",
     "start_time": "2023-03-02T07:33:54.648890Z"
    }
   },
   "source": [
    "# notebook source\n",
    "\n",
    "https://gist.github.com/monocongo/978348233b4bde80e9bcc52fe8e4150c"
   ]
  },
  {
   "cell_type": "markdown",
   "metadata": {},
   "source": [
    "# SPI calculation routines "
   ]
  },
  {
   "cell_type": "code",
   "execution_count": null,
   "metadata": {},
   "outputs": [],
   "source": [
    "# standard library\n",
    "import os\n",
    "from tempfile import TemporaryDirectory\n",
    "from typing import Dict\n",
    "\n",
    "# third-party\n",
    "from climate_indices.indices import spi, Distribution\n",
    "from climate_indices.compute import Periodicity\n",
    "import numpy as np\n",
    "import pandas as pd\n",
    "import requests\n",
    "import xarray as xr"
   ]
  },
  {
   "cell_type": "code",
   "execution_count": null,
   "metadata": {},
   "outputs": [],
   "source": [
    "# create a wrapper function that can be applied to an entire Dataset\n",
    "# (takes a DataArray as first argument, returns a DataArray)\n",
    "def spi_wrapper(\n",
    "    obj: xr.DataArray,\n",
    "    precip_var: str,\n",
    "    scale: int,\n",
    "    distribution: Distribution,\n",
    "    data_start_year: int,\n",
    "    calibration_year_initial: int,\n",
    "    calibration_year_final: int,\n",
    "    periodicity: Periodicity,\n",
    "    fitting_params: Dict = None,\n",
    ") -> xr.DataArray:\n",
    "    \n",
    "    # compute SPI for this timeseries\n",
    "    spi_data = spi(\n",
    "        values=obj[precip_var].to_numpy(), #TODO find why we need to use the variable name rather than already using the variables's DataArray (i.e. why is obj a Dataset?)\n",
    "        scale=scale,\n",
    "        distribution=distribution,\n",
    "        data_start_year=data_start_year,\n",
    "        calibration_year_initial=calibration_year_initial,\n",
    "        calibration_year_final=calibration_year_final,\n",
    "        periodicity=periodicity,\n",
    "        fitting_params=fitting_params,\n",
    "    )\n",
    "\n",
    "    #TODO for some reason this is necessary for the nClimGrid low-resolution example NetCDFs\n",
    "    #TODO find out why\n",
    "    #spi_data = spi_data.flatten()\n",
    "    \n",
    "    #TODO for some reason this is necessary for the NCO-modified nClimGrid normal-resolution example NetCDFs\n",
    "    #TODO find out why\n",
    "    spi_data = spi_data.reshape(spi_data.size, 1)\n",
    "    \n",
    "    # create the return DataArray (copy of input object's geospatial dims/coords plus SPI data)\n",
    "    da_spi = xr.DataArray(\n",
    "        dims   = obj[precip_var].dims,\n",
    "        coords = obj[precip_var].coords,\n",
    "        attrs  = {\n",
    "            'description': 'SPI computed by the climate_indices Python package',\n",
    "            'references': 'https://github.com/monocongo/climate_indices',\n",
    "            'valid_min': -3.09, # this should mirror climate_indices.indices._FITTED_INDEX_VALID_MIN\n",
    "            'valid_max':  3.09, # this should mirror climate_indices.indices._FITTED_INDEX_VALID_MAX\n",
    "        },\n",
    "        data = spi_data,\n",
    "    )\n",
    "\n",
    "    return da_spi\n"
   ]
  },
  {
   "cell_type": "markdown",
   "metadata": {},
   "source": [
    "# get data "
   ]
  },
  {
   "cell_type": "code",
   "execution_count": null,
   "metadata": {},
   "outputs": [],
   "source": [
    "import pandas as pd\n",
    "from datetime import datetime\n",
    "import numpy as np\n",
    "import rioxarray\n",
    "import xarray as xr\n",
    "\n",
    "min_lon = 31\n",
    "min_lat = 0.0\n",
    "max_lon = 37\n",
    "max_lat = 6\n",
    "\n",
    "\n",
    "datereg=pd.date_range(start='19790201',end='20201130', freq='1M')\n",
    "datereg1=[x.strftime('%Y%m') for x in datereg]\n",
    "\n",
    "\n",
    "datasets = []\n",
    "for datr in datereg1:\n",
    "    db=xr.open_dataset(f'EA_MSWEP/{datr}.nc')\n",
    "    #subset = db.rio.clip_box(minx=min_lon, miny=min_lat, maxx=max_lon, maxy=max_lat)\n",
    "    cropped_ds = db.sel(lat=slice(max_lat,min_lat), lon=slice(min_lon,max_lon))\n",
    "    #print(datr)\n",
    "    datasets.append(cropped_ds)\n",
    "\n",
    "combined = xr.concat(datasets, dim='time')"
   ]
  },
  {
   "cell_type": "markdown",
   "metadata": {
    "ExecuteTime": {
     "end_time": "2023-03-15T20:59:26.260734Z",
     "start_time": "2023-03-15T20:59:26.255350Z"
    }
   },
   "source": [
    "# calcualte SPI on xarray"
   ]
  },
  {
   "cell_type": "code",
   "execution_count": null,
   "metadata": {},
   "outputs": [],
   "source": [
    "sc = combined.stack(grid_cells=('lat', 'lon',))\n",
    "\n",
    "spi_ds = sc.groupby('grid_cells').apply(\n",
    "    spi_wrapper,\n",
    "    precip_var='precipitation',\n",
    "    scale=3,\n",
    "    distribution=Distribution.gamma,\n",
    "    data_start_year=1979,\n",
    "    calibration_year_initial=1981,\n",
    "    calibration_year_final=2010,\n",
    "    periodicity=Periodicity.monthly,\n",
    ").unstack('grid_cells')"
   ]
  }
 ],
 "metadata": {
  "anaconda-cloud": {},
  "kernelspec": {
   "display_name": "Python 3 (ipykernel)",
   "language": "python",
   "name": "python3"
  },
  "language_info": {
   "codemirror_mode": {
    "name": "ipython",
    "version": 3
   },
   "file_extension": ".py",
   "mimetype": "text/x-python",
   "name": "python",
   "nbconvert_exporter": "python",
   "pygments_lexer": "ipython3",
   "version": "3.9.7"
  },
  "toc": {
   "base_numbering": 1,
   "nav_menu": {},
   "number_sections": true,
   "sideBar": true,
   "skip_h1_title": false,
   "title_cell": "Table of Contents",
   "title_sidebar": "Contents",
   "toc_cell": false,
   "toc_position": {},
   "toc_section_display": true,
   "toc_window_display": false
  }
 },
 "nbformat": 4,
 "nbformat_minor": 2
}
